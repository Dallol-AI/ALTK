{
 "cells": [
  {
   "cell_type": "code",
   "execution_count": 5,
   "metadata": {},
   "outputs": [],
   "source": [
    "# Task 1: Tokenizer Algorithm\n",
    "\n",
    "import string"
   ]
  },
  {
   "cell_type": "code",
   "execution_count": 31,
   "metadata": {},
   "outputs": [],
   "source": [
    "def tokenize(text, delimiters, punc=False):\n",
    "    \"\"\"\n",
    "    Tokenize a text into a list of tokens.\n",
    "\n",
    "    :param text: the text to tokenize\n",
    "    :param delimiters: the delimiters to use\n",
    "    :param punc: include punctuation in the tokens\n",
    "    :return: a list of tokens\n",
    "    \"\"\"\n",
    "    \n",
    "    tokens = []\n",
    "    curr_word = \"\"\n",
    "    for char in text:\n",
    "        if char not in delimiters:\n",
    "            curr_word += char\n",
    "        else:\n",
    "            if curr_word != \"\":\n",
    "                curr_word = curr_word.strip()\n",
    "                tokens.append()\n",
    "                if punc: tokens.append(char)\n",
    "                curr_word = \"\"\n",
    "    if curr_word:\n",
    "        tokens.append(curr_word.rstrip())\n",
    "    return tokens"
   ]
  },
  {
   "cell_type": "code",
   "execution_count": 32,
   "metadata": {},
   "outputs": [],
   "source": [
    "amharic_delimiters = { \"[\", \" \", \"፣\", \"።\", \",\", \"፦\", \"!\", \">\", \"&\", \"፧\", \"}\", \"^\", \")\", \"፨\", \"<\", \"~\", \"]\", \"-\", \"*\", \"{\", \"፡\", \"፤\", \"/\", \"፥\", \"(\", \"\\\\\", \"_\", \"+\", \";\", \"#\", \"\\\"\", \":\", \"=\", \" \", \"%\", \"|\", \"`\", \"@\", \"'\", \"?\", \"$\", }"
   ]
  },
  {
   "cell_type": "code",
   "execution_count": 33,
   "metadata": {},
   "outputs": [
    {
     "data": {
      "text/plain": [
       "False"
      ]
     },
     "execution_count": 33,
     "metadata": {},
     "output_type": "execute_result"
    }
   ],
   "source": [
    "\".\" in amharic_delimiters"
   ]
  },
  {
   "cell_type": "code",
   "execution_count": 34,
   "metadata": {},
   "outputs": [],
   "source": [
    "sample_text = \"\"\"\n",
    "ቢግ ማክ የሃምበርገር ዓይነት ሲሆን በፈጣን ምግብ ቤቱ ማክዶናልድስ የሚሸጥ ነው። ሃምበርገሩ ለመጀመሪያ ጊዜ የተፈጠረው በ1960 ዓ.ም. በአሜሪካኑ ጅም ዴልጋቲ ነበር። ሁለት የተፈጨ የበሬ ስጋ ክቦችን፣ ሰላጣ ቅጠል፣ ዓይብ፣ ሽንኩርት፣ ፒክልስ እና ሶስት የሰሊጥ ጠፍጣፋ ዳቦዎችን ከማዋዣ የቢግ ማክ ሶስ (መረቅ) ጋር ይይዛል።\n",
    "\"\"\""
   ]
  },
  {
   "cell_type": "code",
   "execution_count": 35,
   "metadata": {},
   "outputs": [
    {
     "data": {
      "text/plain": [
       "['\\nቢግ',\n",
       " 'ማክ',\n",
       " 'የሃምበርገር',\n",
       " 'ዓይነት',\n",
       " 'ሲሆን',\n",
       " 'በፈጣን',\n",
       " 'ምግብ',\n",
       " 'ቤቱ',\n",
       " 'ማክዶናልድስ',\n",
       " 'የሚሸጥ',\n",
       " 'ነው',\n",
       " 'ሃምበርገሩ',\n",
       " 'ለመጀመሪያ',\n",
       " 'ጊዜ',\n",
       " 'የተፈጠረው',\n",
       " 'በ1960',\n",
       " 'ዓ.ም.',\n",
       " 'በአሜሪካኑ',\n",
       " 'ጅም',\n",
       " 'ዴልጋቲ',\n",
       " 'ነበር',\n",
       " 'ሁለት',\n",
       " 'የተፈጨ',\n",
       " 'የበሬ',\n",
       " 'ስጋ',\n",
       " 'ክቦችን',\n",
       " 'ሰላጣ',\n",
       " 'ቅጠል',\n",
       " 'ዓይብ',\n",
       " 'ሽንኩርት',\n",
       " 'ፒክልስ',\n",
       " 'እና',\n",
       " 'ሶስት',\n",
       " 'የሰሊጥ',\n",
       " 'ጠፍጣፋ',\n",
       " 'ዳቦዎችን',\n",
       " 'ከማዋዣ',\n",
       " 'የቢግ',\n",
       " 'ማክ',\n",
       " 'ሶስ',\n",
       " 'መረቅ',\n",
       " 'ጋር',\n",
       " 'ይይዛል',\n",
       " '']"
      ]
     },
     "execution_count": 35,
     "metadata": {},
     "output_type": "execute_result"
    }
   ],
   "source": [
    "tokenize(sample_text, amharic_delimiters, False)"
   ]
  },
  {
   "cell_type": "code",
   "execution_count": null,
   "metadata": {},
   "outputs": [],
   "source": []
  }
 ],
 "metadata": {
  "kernelspec": {
   "display_name": "venv",
   "language": "python",
   "name": "python3"
  },
  "language_info": {
   "codemirror_mode": {
    "name": "ipython",
    "version": 3
   },
   "file_extension": ".py",
   "mimetype": "text/x-python",
   "name": "python",
   "nbconvert_exporter": "python",
   "pygments_lexer": "ipython3",
   "version": "3.11.5"
  }
 },
 "nbformat": 4,
 "nbformat_minor": 2
}
